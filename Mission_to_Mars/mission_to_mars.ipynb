{
 "cells": [
  {
   "cell_type": "code",
   "execution_count": 85,
   "metadata": {},
   "outputs": [],
   "source": [
    "from splinter import Browser\n",
    "from bs4 import BeautifulSoup\n",
    "from webdriver_manager.chrome import ChromeDriverManager\n",
    "import requests\n",
    "import pandas as pd\n",
    "\n"
   ]
  },
  {
   "cell_type": "code",
   "execution_count": 37,
   "metadata": {},
   "outputs": [
    {
     "name": "stderr",
     "output_type": "stream",
     "text": [
      "\n",
      "\n",
      "====== WebDriver manager ======\n",
      "Current google-chrome version is 99.0.4844\n",
      "Get LATEST chromedriver version for 99.0.4844 google-chrome\n",
      "Trying to download new driver from https://chromedriver.storage.googleapis.com/99.0.4844.51/chromedriver_win32.zip\n",
      "Driver has been saved in cache [C:\\Users\\irish\\.wdm\\drivers\\chromedriver\\win32\\99.0.4844.51]\n"
     ]
    }
   ],
   "source": [
    "executable_path = {'executable_path': ChromeDriverManager().install()}\n",
    "browser = Browser('chrome', **executable_path, headless=False)"
   ]
  },
  {
   "cell_type": "code",
   "execution_count": 38,
   "metadata": {},
   "outputs": [],
   "source": [
    "url = \"https://redplanetscience.com/\"\n",
    "browser.visit(url)\n",
    "html = browser.html\n",
    "soup = BeautifulSoup(html,'html.parser')"
   ]
  },
  {
   "cell_type": "code",
   "execution_count": 40,
   "metadata": {},
   "outputs": [],
   "source": [
    "#response = requests.get(url)"
   ]
  },
  {
   "cell_type": "code",
   "execution_count": 41,
   "metadata": {},
   "outputs": [],
   "source": [
    "#soup = BeautifulSoup(response.text,'html.parser')\n",
    "#print(soup.prettify())"
   ]
  },
  {
   "cell_type": "code",
   "execution_count": 42,
   "metadata": {},
   "outputs": [],
   "source": [
    "#soup.find('span', class_='logo').text"
   ]
  },
  {
   "cell_type": "code",
   "execution_count": 45,
   "metadata": {},
   "outputs": [
    {
     "name": "stdout",
     "output_type": "stream",
     "text": [
      "NASA InSight's 'Mole' Is Out of Sight\n"
     ]
    }
   ],
   "source": [
    "#section class=\"image_and_description_container\n",
    "\n",
    "results = soup.find('div', class_='list_text')\n",
    "#type(results)"
   ]
  },
  {
   "cell_type": "code",
   "execution_count": 46,
   "metadata": {},
   "outputs": [
    {
     "name": "stdout",
     "output_type": "stream",
     "text": [
      "NASA InSight's 'Mole' Is Out of Sight\n",
      "Now that the heat probe is just below the Martian surface, InSight's arm will scoop some additional soil on top to help it keep digging so it can take Mars' temperature.\n"
     ]
    }
   ],
   "source": [
    "for result in results:\n",
    "    title = soup.find('div', class_='content_title')\n",
    "    article = soup.find('div', class_='article_teaser_body')\n",
    "\n",
    "print(title.text)\n",
    "print(article.text)"
   ]
  },
  {
   "cell_type": "code",
   "execution_count": 47,
   "metadata": {},
   "outputs": [],
   "source": [
    "url = \"https://spaceimages-mars.com\"\n",
    "browser.visit(url)\n",
    "html = browser.html\n",
    "soup = BeautifulSoup(html,'html.parser')"
   ]
  },
  {
   "cell_type": "code",
   "execution_count": 66,
   "metadata": {},
   "outputs": [
    {
     "name": "stdout",
     "output_type": "stream",
     "text": [
      "https://spaceimages-mars.com/image/featured/mars2.jpg\n"
     ]
    }
   ],
   "source": [
    "results = soup.find('div', class_='header')\n",
    "\n",
    "for result in results:\n",
    "    #print(result)    \n",
    "    featured_image = soup.find('img', class_='headerimage fade-in')\n",
    "\n",
    "featured_image_url = url + '/' + featured_image.get('src')\n",
    "\n",
    "print(featured_image_url)"
   ]
  },
  {
   "cell_type": "code",
   "execution_count": 74,
   "metadata": {},
   "outputs": [],
   "source": [
    "url = \"https://galaxyfacts-mars.com\"\n",
    "browser.visit(url)\n",
    "html = browser.html\n",
    "soup = BeautifulSoup(html,'html.parser')"
   ]
  },
  {
   "cell_type": "code",
   "execution_count": 86,
   "metadata": {},
   "outputs": [],
   "source": [
    "mars_facts = []\n",
    "\n",
    "results = soup.find('table', class_='table')\n",
    "\n",
    "#for result in results:\n",
    "    #print(result)    \n",
    "    #mars_facts.append(soup.find('span', class_='orange').text)\n",
    "\n",
    "#print(mars_facts)\n"
   ]
  },
  {
   "cell_type": "code",
   "execution_count": 96,
   "metadata": {},
   "outputs": [
    {
     "name": "stdout",
     "output_type": "stream",
     "text": [
      "[' Mars - Earth Comparison', 'Diameter:', 'Mass:', 'Moons:', 'Distance from Sun:', 'Length of Year:', 'Temperature:']\n",
      "[' Mars', '6,779 km', '6.39 × 10^23 kg ', '2', '227,943,824 km', '687 Earth days', '-87 to -5 °C']\n"
     ]
    }
   ],
   "source": [
    "mars_data = results.findAll('span', class_='orange')\n",
    "row_names = results.findAll('th', scope='row')\n",
    "\n",
    "facts = []\n",
    "rows = []\n",
    "\n",
    "for row in mars_data:\n",
    "    facts.append(row.text)\n",
    "for row in row_names:\n",
    "    rows.append(row.text)\n",
    "\n",
    "print(rows)\n",
    "print(facts)"
   ]
  },
  {
   "cell_type": "code",
   "execution_count": 127,
   "metadata": {},
   "outputs": [],
   "source": [
    "mars_df = pd.DataFrame({\n",
    "    'Mars Stats' : rows[1:],\n",
    "    '' : facts[1:]\n",
    "})\n",
    "\n",
    "mars_df.set_index('Mars Stats', inplace=True)"
   ]
  },
  {
   "cell_type": "code",
   "execution_count": 129,
   "metadata": {},
   "outputs": [],
   "source": [
    "mars_df.to_html('Mars_Table.html')"
   ]
  },
  {
   "cell_type": "code",
   "execution_count": 168,
   "metadata": {},
   "outputs": [],
   "source": [
    "url = \"https://marshemispheres.com/\"\n",
    "browser.visit(url)\n",
    "html = browser.html\n",
    "soup = BeautifulSoup(html,'html.parser')"
   ]
  },
  {
   "cell_type": "code",
   "execution_count": 175,
   "metadata": {},
   "outputs": [
    {
     "name": "stdout",
     "output_type": "stream",
     "text": [
      "['cerberus', 'schiaparelli', 'syrtis', 'valles']\n",
      "['Cerberus Hemisphere', 'Schiaparelli Hemisphere', 'Syrtis Major Hemisphere', 'Valles Marineris Hemisphere']\n"
     ]
    }
   ],
   "source": [
    "results = soup.find_all('div', class_='item')\n",
    "\n",
    "hemispheres = []\n",
    "hemisphere_titles = []\n",
    "\n",
    "for result in results:\n",
    "    hemi_path = result.find('a', class_='itemLink').get('href')\n",
    "    hemi_name = hemi_path.split('.')[0]\n",
    "    hemispheres.append(hemi_name)\n",
    "    hemisphere_titles.append(result.find('h3').text.rsplit(' ', 1)[0])\n",
    "\n",
    "print(hemispheres)\n",
    "\n",
    "print(hemisphere_titles)"
   ]
  },
  {
   "cell_type": "code",
   "execution_count": 156,
   "metadata": {},
   "outputs": [
    {
     "name": "stdout",
     "output_type": "stream",
     "text": [
      "['https://marshemispheres.com/images/full.jpg', 'https://marshemispheres.com/images/schiaparelli_enhanced-full.jpg', 'https://marshemispheres.com/images/syrtis_major_enhanced-full.jpg', 'https://marshemispheres.com/images/valles_marineris_enhanced-full.jpg']\n"
     ]
    }
   ],
   "source": [
    "hemisphere_img_links = []\n",
    "\n",
    "for hemisphere in hemispheres:\n",
    "    hemi_url = url + hemisphere + '.html'\n",
    "    browser.visit(hemi_url)\n",
    "    html = browser.html\n",
    "    soup = BeautifulSoup(html,'html.parser')\n",
    "\n",
    "    downloads = soup.find('div', class_='downloads')\n",
    "    full_img = downloads.find('a', target='_blank').get('href')\n",
    "    full_img_url = url + full_img\n",
    "    hemisphere_img_links.append(full_img_url)\n",
    "\n",
    "print(hemisphere_img_links)"
   ]
  },
  {
   "cell_type": "code",
   "execution_count": 176,
   "metadata": {},
   "outputs": [
    {
     "data": {
      "text/plain": [
       "[{'title': 'Cerberus Hemisphere',\n",
       "  'img_url': 'https://marshemispheres.com/images/full.jpg'},\n",
       " {'title': 'Schiaparelli Hemisphere',\n",
       "  'img_url': 'https://marshemispheres.com/images/schiaparelli_enhanced-full.jpg'},\n",
       " {'title': 'Syrtis Major Hemisphere',\n",
       "  'img_url': 'https://marshemispheres.com/images/syrtis_major_enhanced-full.jpg'},\n",
       " {'title': 'Valles Marineris Hemisphere',\n",
       "  'img_url': 'https://marshemispheres.com/images/valles_marineris_enhanced-full.jpg'}]"
      ]
     },
     "execution_count": 176,
     "metadata": {},
     "output_type": "execute_result"
    }
   ],
   "source": [
    "hemi_images = []\n",
    "\n",
    "for x in range(len(hemispheres)):\n",
    "    hemi_dict = {\n",
    "        'title': hemisphere_titles[x],\n",
    "        'img_url': hemisphere_img_links[x]\n",
    "    }\n",
    "    hemi_images.append(hemi_dict)\n",
    "\n",
    "\n",
    "hemi_images\n"
   ]
  }
 ],
 "metadata": {
  "interpreter": {
   "hash": "eed8a5eb32a2e3fd876b5eaeba5ebdac59b18c58b7506f3a88190dbee8b88e98"
  },
  "kernelspec": {
   "display_name": "Python 3.6.10 ('PythonData')",
   "language": "python",
   "name": "python3"
  },
  "language_info": {
   "codemirror_mode": {
    "name": "ipython",
    "version": 3
   },
   "file_extension": ".py",
   "mimetype": "text/x-python",
   "name": "python",
   "nbconvert_exporter": "python",
   "pygments_lexer": "ipython3",
   "version": "3.6.10"
  },
  "orig_nbformat": 4
 },
 "nbformat": 4,
 "nbformat_minor": 2
}
